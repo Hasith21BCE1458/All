{
  "cells": [
    {
      "cell_type": "markdown",
      "metadata": {
        "id": "view-in-github",
        "colab_type": "text"
      },
      "source": [
        "<a href=\"https://colab.research.google.com/github/Hasith21BCE1458/All/blob/main/Alzheimer_disease_prediction_SECNN.ipynb\" target=\"_parent\"><img src=\"https://colab.research.google.com/assets/colab-badge.svg\" alt=\"Open In Colab\"/></a>"
      ]
    },
    {
      "cell_type": "markdown",
      "id": "a389714c-e6f9-430a-a3f4-ab74ae5d3da4",
      "metadata": {
        "id": "a389714c-e6f9-430a-a3f4-ab74ae5d3da4"
      },
      "source": [
        "#                            **Advanced Interpretable Diagnosis of Alzheimer’s Disease**"
      ]
    },
    {
      "cell_type": "markdown",
      "id": "c1eb38cb-aadf-42d2-8f0e-23d8f2dd85b6",
      "metadata": {
        "id": "c1eb38cb-aadf-42d2-8f0e-23d8f2dd85b6"
      },
      "source": [
        "### Alzheimer's disease is a progressive neurological disorder that causes brain cells to degenerate and die. It is the most common cause of dementia, a condition characterized by a decline in cognitive abilities such as memory, reasoning, and social skills.\n",
        "\n"
      ]
    },
    {
      "cell_type": "markdown",
      "id": "149a4460-c416-4edf-9f11-4387de82d58a",
      "metadata": {
        "id": "149a4460-c416-4edf-9f11-4387de82d58a"
      },
      "source": [
        "# Import Libraries"
      ]
    },
    {
      "cell_type": "code",
      "source": [
        "from google.colab import drive\n",
        "drive.mount('/content/drive')"
      ],
      "metadata": {
        "colab": {
          "base_uri": "https://localhost:8080/"
        },
        "id": "TCu23HH6M3MA",
        "outputId": "5f0a8227-1d53-40d3-c3f1-856b02a03f2d"
      },
      "id": "TCu23HH6M3MA",
      "execution_count": 1,
      "outputs": [
        {
          "output_type": "stream",
          "name": "stdout",
          "text": [
            "Mounted at /content/drive\n"
          ]
        }
      ]
    },
    {
      "cell_type": "code",
      "execution_count": 2,
      "id": "a7392336-f178-4950-8fc9-489d537d6611",
      "metadata": {
        "id": "a7392336-f178-4950-8fc9-489d537d6611"
      },
      "outputs": [],
      "source": [
        "import numpy as np\n",
        "import tensorflow as tf\n",
        "from tensorflow.keras import layers, models, regularizers\n",
        "from tensorflow.keras.preprocessing.image import ImageDataGenerator\n",
        "from tensorflow.keras.optimizers import Adam\n",
        "from tensorflow.keras.models import Model\n",
        "from tensorflow.keras.models import load_model\n",
        "from tensorflow.keras.utils import load_img\n",
        "from tensorflow.keras.callbacks import EarlyStopping, ReduceLROnPlateau\n",
        "from tensorflow.keras.layers import Conv2D, MaxPooling2D, GlobalAveragePooling2D, Dense, Dropout, Input, Reshape, multiply\n",
        "from sklearn.metrics import accuracy_score, classification_report, confusion_matrix\n",
        "import matplotlib.pyplot as plt\n",
        "import seaborn as sns\n",
        "import os\n",
        "from tensorflow.keras.layers import BatchNormalization\n",
        "import numpy as np\n",
        "import tensorflow as tf\n",
        "from tensorflow.keras import layers, models\n",
        "from tensorflow.keras.preprocessing.image import ImageDataGenerator\n",
        "from tensorflow.keras.optimizers import Adam\n",
        "from tensorflow.keras.callbacks import EarlyStopping, ReduceLROnPlateau\n",
        "from sklearn.ensemble import RandomForestClassifier\n",
        "from xgboost import XGBClassifier\n",
        "from sklearn.metrics import accuracy_score, classification_report, confusion_matrix\n",
        "from imblearn.over_sampling import SMOTE\n",
        "import matplotlib.pyplot as plt\n",
        "import seaborn as sns\n",
        "import matplotlib.cm as cm\n",
        "import os\n",
        "\n"
      ]
    },
    {
      "cell_type": "code",
      "execution_count": 3,
      "id": "d11783a9-2bd6-40ab-bce7-b0fc67cc0992",
      "metadata": {
        "id": "d11783a9-2bd6-40ab-bce7-b0fc67cc0992"
      },
      "outputs": [],
      "source": [
        "# General Libraries\n",
        "import numpy as np\n",
        "import pandas as pd\n",
        "import matplotlib.pyplot as plt\n",
        "import seaborn as sns\n",
        "\n",
        "# Sklearn for evaluation metrics\n",
        "from sklearn.metrics import accuracy_score, classification_report, confusion_matrix\n",
        "from sklearn.utils.class_weight import compute_class_weight\n",
        "\n",
        "# TensorFlow and Keras for deep learning\n",
        "import tensorflow as tf\n",
        "from tensorflow.keras.models import Model\n",
        "from tensorflow.keras.layers import (\n",
        "    Input, Conv2D, MaxPooling2D, GlobalAveragePooling2D, Dense, Dropout,\n",
        "    BatchNormalization, Reshape, multiply\n",
        ")\n",
        "from tensorflow.keras.optimizers import Adam\n",
        "from tensorflow.keras.callbacks import EarlyStopping, ReduceLROnPlateau\n",
        "from tensorflow.keras.preprocessing.image import ImageDataGenerator\n"
      ]
    },
    {
      "cell_type": "code",
      "execution_count": null,
      "id": "bf764126-b592-431c-b33d-b6f55614b17a",
      "metadata": {
        "id": "bf764126-b592-431c-b33d-b6f55614b17a"
      },
      "outputs": [],
      "source": []
    },
    {
      "cell_type": "markdown",
      "id": "ec1d947e-5a34-48b4-9d0b-dd9482bb87e6",
      "metadata": {
        "id": "ec1d947e-5a34-48b4-9d0b-dd9482bb87e6"
      },
      "source": [
        "# Define Paths and Hyperparameters"
      ]
    },
    {
      "cell_type": "code",
      "execution_count": 4,
      "id": "63960f04-dd0d-43f2-adf8-01e8133a63a3",
      "metadata": {
        "scrolled": true,
        "id": "63960f04-dd0d-43f2-adf8-01e8133a63a3"
      },
      "outputs": [],
      "source": [
        "# Dataset directory\n",
        "dataset_dir = \"/content/drive/MyDrive/Alzheimer-Disease-Prediction/Dataset\"\n",
        "\n",
        "# Image dimensions\n",
        "IMG_HEIGHT, IMG_WIDTH = 128, 128\n",
        "batch_size = 32\n",
        "num_epochs = 50\n",
        "learning_rate = 0.001\n",
        "n_estimators = 100  # For Random Forest classifier\n",
        "reduction_ratio = 16  # SE Block reduction ratio\n"
      ]
    },
    {
      "cell_type": "markdown",
      "id": "bacf4f95-b84d-49fd-b296-f99d48b768b9",
      "metadata": {
        "id": "bacf4f95-b84d-49fd-b296-f99d48b768b9"
      },
      "source": [
        "# Images of Different classess"
      ]
    },
    {
      "cell_type": "markdown",
      "id": "8079ccd4-c348-4881-b3c3-e86f836cec1b",
      "metadata": {
        "id": "8079ccd4-c348-4881-b3c3-e86f836cec1b"
      },
      "source": [
        "# Step 3: Data Preprocessing and Augmentation"
      ]
    },
    {
      "cell_type": "code",
      "execution_count": 5,
      "id": "30569042-6f09-4686-93d0-7e70b1f7ea07",
      "metadata": {
        "colab": {
          "base_uri": "https://localhost:8080/"
        },
        "id": "30569042-6f09-4686-93d0-7e70b1f7ea07",
        "outputId": "da4f3c03-0d24-4dbf-8fa7-58307531a90a"
      },
      "outputs": [
        {
          "output_type": "stream",
          "name": "stdout",
          "text": [
            "Found 5121 images belonging to 4 classes.\n",
            "Found 1279 images belonging to 4 classes.\n"
          ]
        }
      ],
      "source": [
        "from tensorflow.keras.preprocessing.image import ImageDataGenerator\n",
        "\n",
        "train_datagen = ImageDataGenerator(\n",
        "    rescale=1.0 / 255.0,\n",
        "    rotation_range=30,\n",
        "    width_shift_range=0.2,\n",
        "    height_shift_range=0.2,\n",
        "    zoom_range=0.2,\n",
        "    shear_range=0.2,\n",
        "    horizontal_flip=True,\n",
        "    validation_split=0.2\n",
        ")\n",
        "\n",
        "train_generator = train_datagen.flow_from_directory(\n",
        "    dataset_dir,\n",
        "    target_size=(IMG_HEIGHT, IMG_WIDTH),\n",
        "    batch_size=batch_size,\n",
        "    class_mode=\"categorical\",\n",
        "    subset=\"training\",\n",
        "    shuffle=True\n",
        ")\n",
        "\n",
        "val_generator = train_datagen.flow_from_directory(\n",
        "    dataset_dir,\n",
        "    target_size=(IMG_HEIGHT, IMG_WIDTH),\n",
        "    batch_size=batch_size,\n",
        "    class_mode=\"categorical\",\n",
        "    subset=\"validation\",\n",
        "    shuffle=False\n",
        ")\n"
      ]
    },
    {
      "cell_type": "code",
      "execution_count": null,
      "id": "4a659855-09ce-4dbc-b978-3ad067bc2609",
      "metadata": {
        "id": "4a659855-09ce-4dbc-b978-3ad067bc2609"
      },
      "outputs": [],
      "source": []
    },
    {
      "cell_type": "code",
      "execution_count": 6,
      "id": "946357b1-6638-498b-a7df-5d0c75775643",
      "metadata": {
        "colab": {
          "base_uri": "https://localhost:8080/"
        },
        "id": "946357b1-6638-498b-a7df-5d0c75775643",
        "outputId": "40cd6ff2-0538-4790-dbf8-a3c0bd5ce353"
      },
      "outputs": [
        {
          "output_type": "stream",
          "name": "stdout",
          "text": [
            "Images batch shape: (32, 128, 128, 3)\n",
            "Labels batch shape: (32, 4)\n"
          ]
        }
      ],
      "source": [
        "# # Debugging the train generator output\n",
        "# x_batch, y_batch = next(train_generator)\n",
        "# print(f\"Images batch shape: {x_batch.shape}\")\n",
        "# print(f\"Labels batch shape: {y_batch.shape}\")\n",
        "\n",
        "sample_batch = next(iter(train_generator))\n",
        "print(f\"Images batch shape: {sample_batch[0].shape}\")\n",
        "print(f\"Labels batch shape: {sample_batch[1].shape}\")\n"
      ]
    },
    {
      "cell_type": "code",
      "execution_count": 7,
      "id": "5b598fa8-3000-4db8-93ab-3203ad4debe5",
      "metadata": {
        "colab": {
          "base_uri": "https://localhost:8080/"
        },
        "id": "5b598fa8-3000-4db8-93ab-3203ad4debe5",
        "outputId": "ce357e03-ccc9-4821-f1a6-26df483ed51c"
      },
      "outputs": [
        {
          "output_type": "stream",
          "name": "stdout",
          "text": [
            "Number of classes: 4\n",
            "Class indices: {'Mild_Demented': 0, 'Moderate_Demented': 1, 'Non_Demented': 2, 'Very_Mild_Demented': 3}\n"
          ]
        }
      ],
      "source": [
        "num_classes = len(train_generator.class_indices)\n",
        "print(f\"Number of classes: {num_classes}\")\n",
        "print(f\"Class indices: {train_generator.class_indices}\")\n"
      ]
    },
    {
      "cell_type": "markdown",
      "id": "1c94ea79-3542-4050-a22b-f6b3b203f79b",
      "metadata": {
        "id": "1c94ea79-3542-4050-a22b-f6b3b203f79b"
      },
      "source": [
        "### Squeeze-and-Excitation (SE) Blocks are a type of architectural innovation introduced to enhance the performance of convolutional neural networks (CNNs). These blocks aim to recalibrate the feature maps generated by CNNs by emphasizing the most informative channels and suppressing less useful ones."
      ]
    },
    {
      "cell_type": "markdown",
      "id": "5b86213a-8fd5-4ad7-8b35-160d1532b6ca",
      "metadata": {
        "id": "5b86213a-8fd5-4ad7-8b35-160d1532b6ca"
      },
      "source": [
        "# Step 4: Define the SECNN Model with Squeeze-and-Excitation (SE) Blocks"
      ]
    },
    {
      "cell_type": "code",
      "execution_count": null,
      "id": "7b0ea238-6fc8-486b-85f4-8f06bfdf1c15",
      "metadata": {
        "id": "7b0ea238-6fc8-486b-85f4-8f06bfdf1c15"
      },
      "outputs": [],
      "source": []
    },
    {
      "cell_type": "code",
      "execution_count": 8,
      "id": "c8c182e2-3142-4199-b12c-caedb476aab8",
      "metadata": {
        "colab": {
          "base_uri": "https://localhost:8080/"
        },
        "id": "c8c182e2-3142-4199-b12c-caedb476aab8",
        "outputId": "f5ae4511-f288-44e9-e7c6-d4c0a1de7bb0"
      },
      "outputs": [
        {
          "output_type": "stream",
          "name": "stdout",
          "text": [
            "Images shape: (32, 128, 128, 3), dtype: float32\n",
            "Labels shape: (32, 4), dtype: float32\n"
          ]
        }
      ],
      "source": [
        "# Get a single batch of data\n",
        "batch = next(iter(train_generator))\n",
        "images, labels = batch\n",
        "\n",
        "# Print shapes and types\n",
        "print(f\"Images shape: {images.shape}, dtype: {images.dtype}\")\n",
        "print(f\"Labels shape: {labels.shape}, dtype: {labels.dtype}\")\n"
      ]
    },
    {
      "cell_type": "code",
      "execution_count": 9,
      "id": "92393c1a-bfe6-4acc-861a-3417c9df239b",
      "metadata": {
        "id": "92393c1a-bfe6-4acc-861a-3417c9df239b"
      },
      "outputs": [],
      "source": [
        "def se_block(input_tensor, reduction_ratio=16):\n",
        "    filters = input_tensor.shape[-1]\n",
        "    se_shape = (1, 1, filters)\n",
        "\n",
        "    # Squeeze: Global Average Pooling\n",
        "    se = layers.GlobalAveragePooling2D()(input_tensor)\n",
        "    se = layers.Reshape(se_shape)(se)\n",
        "\n",
        "    # Excitation: Fully Connected layers with reduction ratio\n",
        "    se = layers.Dense(filters // reduction_ratio, activation='relu')(se)\n",
        "    se = layers.Dense(filters, activation='sigmoid')(se)\n",
        "\n",
        "    # Scale: Multiply the channel-wise weights with the input feature map\n",
        "    return layers.multiply([input_tensor, se])\n"
      ]
    },
    {
      "cell_type": "markdown",
      "id": "75423d69-e87a-4131-9d01-7a0398826189",
      "metadata": {
        "id": "75423d69-e87a-4131-9d01-7a0398826189"
      },
      "source": [
        "# Step 5: Build the SECNN Model"
      ]
    },
    {
      "cell_type": "code",
      "execution_count": 10,
      "id": "610efc99-2f52-4695-9226-26c447e74ab2",
      "metadata": {
        "id": "610efc99-2f52-4695-9226-26c447e74ab2"
      },
      "outputs": [],
      "source": [
        "# Build the SECNN model\n",
        "def build_secnn(input_shape, num_classes):\n",
        "    inputs = Input(shape=input_shape)\n",
        "\n",
        "    # First Convolutional Block\n",
        "    x = Conv2D(32, (3, 3), activation=\"relu\", padding=\"same\")(inputs)\n",
        "    x = BatchNormalization()(x)\n",
        "    x = MaxPooling2D((2, 2))(x)\n",
        "    x = Dropout(0.2)(x)  # Add light dropout\n",
        "    x = se_block(x)\n",
        "\n",
        "    # Second Convolutional Block\n",
        "    x = Conv2D(64, (3, 3), activation=\"relu\", padding=\"same\")(x)\n",
        "    x = BatchNormalization()(x)\n",
        "    x = MaxPooling2D((2, 2))(x)\n",
        "    x = Dropout(0.3)(x)  # Increase dropout\n",
        "    x = se_block(x)\n",
        "\n",
        "    # Third Convolutional Block\n",
        "    x = Conv2D(128, (3, 3), activation=\"relu\", padding=\"same\")(x)\n",
        "    x = BatchNormalization()(x)\n",
        "    x = MaxPooling2D((2, 2))(x)\n",
        "    x = Dropout(0.4)(x)  # Increase dropout further\n",
        "    x = se_block(x)\n",
        "\n",
        "    # Fourth Convolutional Block\n",
        "    x = Conv2D(256, (3, 3), activation=\"relu\", padding=\"same\")(x)\n",
        "    x = BatchNormalization()(x)\n",
        "    x = MaxPooling2D((2, 2))(x)\n",
        "    x = Dropout(0.4)(x)  # High dropout for regularization\n",
        "    x = se_block(x)\n",
        "\n",
        "    # Fully Connected Layer\n",
        "    x = GlobalAveragePooling2D()(x)\n",
        "    x = Dense(512, activation=\"relu\")(x)  # Fully connected layer\n",
        "    x = Dropout(0.4)(x)  # Final dropout layer\n",
        "    outputs = Dense(num_classes, activation=\"softmax\")(x)\n",
        "\n",
        "    model = Model(inputs, outputs)\n",
        "    return model\n",
        "\n",
        "# Build the SECNN model\n",
        "secnn_model = build_secnn((IMG_HEIGHT, IMG_WIDTH, 3), len(train_generator.class_indices))\n"
      ]
    },
    {
      "cell_type": "code",
      "execution_count": 11,
      "id": "8e46f937-41f6-442a-b30e-473b5aeb39f3",
      "metadata": {
        "colab": {
          "base_uri": "https://localhost:8080/"
        },
        "id": "8e46f937-41f6-442a-b30e-473b5aeb39f3",
        "outputId": "67f192c3-4f0b-4a0a-e08f-dbac58098e36"
      },
      "outputs": [
        {
          "output_type": "stream",
          "name": "stdout",
          "text": [
            "Class Weights: {0: 1.7855648535564854, 1: 24.620192307692307, 2: 0.50009765625, 3: 0.7144252232142857}\n"
          ]
        }
      ],
      "source": [
        "# Compute class weights\n",
        "class_labels = list(train_generator.class_indices.keys())  # Class labels\n",
        "class_weights = compute_class_weight(\n",
        "    class_weight='balanced',\n",
        "    classes=np.unique(train_generator.classes),\n",
        "    y=train_generator.classes\n",
        ")\n",
        "class_weights = dict(enumerate(class_weights))\n",
        "print(f\"Class Weights: {class_weights}\")\n"
      ]
    },
    {
      "cell_type": "markdown",
      "id": "cd5a3dcb-cf98-44d1-8eaa-4d97893fb340",
      "metadata": {
        "scrolled": true,
        "id": "cd5a3dcb-cf98-44d1-8eaa-4d97893fb340"
      },
      "source": [
        "# Step 6: Compile the SECNN Model\n"
      ]
    },
    {
      "cell_type": "code",
      "execution_count": 12,
      "id": "6e2dd37f-2135-4e64-88c7-e93964ecfcc0",
      "metadata": {
        "id": "6e2dd37f-2135-4e64-88c7-e93964ecfcc0"
      },
      "outputs": [],
      "source": [
        "secnn_model.compile(\n",
        "    optimizer=Adam(learning_rate=learning_rate),\n",
        "    loss='categorical_crossentropy',\n",
        "    metrics=['accuracy']\n",
        ")\n"
      ]
    },
    {
      "cell_type": "code",
      "execution_count": 13,
      "id": "ac29ad14-ae8d-4a49-838c-81f56b31caec",
      "metadata": {
        "colab": {
          "base_uri": "https://localhost:8080/"
        },
        "id": "ac29ad14-ae8d-4a49-838c-81f56b31caec",
        "outputId": "67875b12-d516-4225-ff53-973070ea1359"
      },
      "outputs": [
        {
          "output_type": "stream",
          "name": "stdout",
          "text": [
            "Class indices: {'Mild_Demented': 0, 'Moderate_Demented': 1, 'Non_Demented': 2, 'Very_Mild_Demented': 3}\n",
            "Number of classes: 4\n",
            "Model output shape: (None, 4)\n"
          ]
        }
      ],
      "source": [
        "# Check class indices\n",
        "print(f\"Class indices: {train_generator.class_indices}\")\n",
        "print(f\"Number of classes: {len(train_generator.class_indices)}\")\n",
        "\n",
        "# Check model output shape\n",
        "print(f\"Model output shape: {secnn_model.output_shape}\")\n"
      ]
    },
    {
      "cell_type": "markdown",
      "id": "c41e4918-012e-4296-832b-4d1d0d5af988",
      "metadata": {
        "id": "c41e4918-012e-4296-832b-4d1d0d5af988"
      },
      "source": [
        "# Step 7: Define Callbacks (Early Stopping and ReduceLROnPlateau)"
      ]
    },
    {
      "cell_type": "code",
      "execution_count": 14,
      "id": "fbf8c6b9-4b85-4023-bec4-300a980d1b6b",
      "metadata": {
        "id": "fbf8c6b9-4b85-4023-bec4-300a980d1b6b"
      },
      "outputs": [],
      "source": [
        "early_stopping = EarlyStopping(monitor='val_loss', patience=5, restore_best_weights=True)\n",
        "reduce_lr = ReduceLROnPlateau(monitor='val_loss', factor=0.5, patience=3, min_lr=1e-6)\n"
      ]
    },
    {
      "cell_type": "markdown",
      "id": "0c6728d1-fe67-4be0-a1d1-6de166bdb10f",
      "metadata": {
        "id": "0c6728d1-fe67-4be0-a1d1-6de166bdb10f"
      },
      "source": [
        "# Step 8: Train the SECNN Model and Plot Training Graphs"
      ]
    },
    {
      "cell_type": "code",
      "execution_count": 15,
      "id": "d38109bf-3859-486b-b8f1-479d07ff02f0",
      "metadata": {
        "colab": {
          "base_uri": "https://localhost:8080/"
        },
        "id": "d38109bf-3859-486b-b8f1-479d07ff02f0",
        "outputId": "29cfcef4-f6dd-4cbf-921a-135d6842159b"
      },
      "outputs": [
        {
          "output_type": "stream",
          "name": "stderr",
          "text": [
            "/usr/local/lib/python3.11/dist-packages/keras/src/trainers/data_adapters/py_dataset_adapter.py:121: UserWarning: Your `PyDataset` class should call `super().__init__(**kwargs)` in its constructor. `**kwargs` can include `workers`, `use_multiprocessing`, `max_queue_size`. Do not pass these arguments to `fit()`, as they will be ignored.\n",
            "  self._warn_if_super_not_called()\n"
          ]
        },
        {
          "output_type": "stream",
          "name": "stdout",
          "text": [
            "Epoch 1/50\n",
            "\u001b[1m161/161\u001b[0m \u001b[32m━━━━━━━━━━━━━━━━━━━━\u001b[0m\u001b[37m\u001b[0m \u001b[1m1607s\u001b[0m 10s/step - accuracy: 0.4998 - loss: 1.0202 - val_accuracy: 0.3511 - val_loss: 1.2474 - learning_rate: 0.0010\n",
            "Epoch 2/50\n",
            "\u001b[1m161/161\u001b[0m \u001b[32m━━━━━━━━━━━━━━━━━━━━\u001b[0m\u001b[37m\u001b[0m \u001b[1m397s\u001b[0m 2s/step - accuracy: 0.5562 - loss: 0.9025 - val_accuracy: 0.5004 - val_loss: 2.3518 - learning_rate: 0.0010\n",
            "Epoch 3/50\n",
            "\u001b[1m161/161\u001b[0m \u001b[32m━━━━━━━━━━━━━━━━━━━━\u001b[0m\u001b[37m\u001b[0m \u001b[1m396s\u001b[0m 2s/step - accuracy: 0.5495 - loss: 0.8867 - val_accuracy: 0.5074 - val_loss: 2.0517 - learning_rate: 0.0010\n",
            "Epoch 4/50\n",
            "\u001b[1m161/161\u001b[0m \u001b[32m━━━━━━━━━━━━━━━━━━━━\u001b[0m\u001b[37m\u001b[0m \u001b[1m392s\u001b[0m 2s/step - accuracy: 0.5736 - loss: 0.8686 - val_accuracy: 0.5489 - val_loss: 1.0682 - learning_rate: 0.0010\n",
            "Epoch 5/50\n",
            "\u001b[1m161/161\u001b[0m \u001b[32m━━━━━━━━━━━━━━━━━━━━\u001b[0m\u001b[37m\u001b[0m \u001b[1m393s\u001b[0m 2s/step - accuracy: 0.5580 - loss: 0.8751 - val_accuracy: 0.3464 - val_loss: 1.1570 - learning_rate: 0.0010\n",
            "Epoch 6/50\n",
            "\u001b[1m161/161\u001b[0m \u001b[32m━━━━━━━━━━━━━━━━━━━━\u001b[0m\u001b[37m\u001b[0m \u001b[1m406s\u001b[0m 3s/step - accuracy: 0.5762 - loss: 0.8658 - val_accuracy: 0.5387 - val_loss: 0.9782 - learning_rate: 0.0010\n",
            "Epoch 7/50\n",
            "\u001b[1m161/161\u001b[0m \u001b[32m━━━━━━━━━━━━━━━━━━━━\u001b[0m\u001b[37m\u001b[0m \u001b[1m395s\u001b[0m 2s/step - accuracy: 0.5648 - loss: 0.8653 - val_accuracy: 0.5332 - val_loss: 1.3057 - learning_rate: 0.0010\n",
            "Epoch 8/50\n",
            "\u001b[1m161/161\u001b[0m \u001b[32m━━━━━━━━━━━━━━━━━━━━\u001b[0m\u001b[37m\u001b[0m \u001b[1m392s\u001b[0m 2s/step - accuracy: 0.5758 - loss: 0.8506 - val_accuracy: 0.3550 - val_loss: 1.2495 - learning_rate: 0.0010\n",
            "Epoch 9/50\n",
            "\u001b[1m161/161\u001b[0m \u001b[32m━━━━━━━━━━━━━━━━━━━━\u001b[0m\u001b[37m\u001b[0m \u001b[1m407s\u001b[0m 3s/step - accuracy: 0.5883 - loss: 0.8479 - val_accuracy: 0.5278 - val_loss: 1.0303 - learning_rate: 0.0010\n",
            "Epoch 10/50\n",
            "\u001b[1m161/161\u001b[0m \u001b[32m━━━━━━━━━━━━━━━━━━━━\u001b[0m\u001b[37m\u001b[0m \u001b[1m390s\u001b[0m 2s/step - accuracy: 0.5989 - loss: 0.8267 - val_accuracy: 0.2017 - val_loss: 1.5465 - learning_rate: 5.0000e-04\n",
            "Epoch 11/50\n",
            "\u001b[1m161/161\u001b[0m \u001b[32m━━━━━━━━━━━━━━━━━━━━\u001b[0m\u001b[37m\u001b[0m \u001b[1m390s\u001b[0m 2s/step - accuracy: 0.5875 - loss: 0.8263 - val_accuracy: 0.5364 - val_loss: 0.9780 - learning_rate: 5.0000e-04\n",
            "Epoch 12/50\n",
            "\u001b[1m161/161\u001b[0m \u001b[32m━━━━━━━━━━━━━━━━━━━━\u001b[0m\u001b[37m\u001b[0m \u001b[1m386s\u001b[0m 2s/step - accuracy: 0.6126 - loss: 0.8084 - val_accuracy: 0.4683 - val_loss: 1.0901 - learning_rate: 5.0000e-04\n",
            "Epoch 13/50\n",
            "\u001b[1m161/161\u001b[0m \u001b[32m━━━━━━━━━━━━━━━━━━━━\u001b[0m\u001b[37m\u001b[0m \u001b[1m383s\u001b[0m 2s/step - accuracy: 0.6090 - loss: 0.8074 - val_accuracy: 0.4644 - val_loss: 1.0109 - learning_rate: 5.0000e-04\n",
            "Epoch 14/50\n",
            "\u001b[1m161/161\u001b[0m \u001b[32m━━━━━━━━━━━━━━━━━━━━\u001b[0m\u001b[37m\u001b[0m \u001b[1m379s\u001b[0m 2s/step - accuracy: 0.6052 - loss: 0.8087 - val_accuracy: 0.2799 - val_loss: 2.3117 - learning_rate: 5.0000e-04\n",
            "Epoch 15/50\n",
            "\u001b[1m161/161\u001b[0m \u001b[32m━━━━━━━━━━━━━━━━━━━━\u001b[0m\u001b[37m\u001b[0m \u001b[1m385s\u001b[0m 2s/step - accuracy: 0.6054 - loss: 0.8068 - val_accuracy: 0.5066 - val_loss: 1.1000 - learning_rate: 2.5000e-04\n",
            "Epoch 16/50\n",
            "\u001b[1m161/161\u001b[0m \u001b[32m━━━━━━━━━━━━━━━━━━━━\u001b[0m\u001b[37m\u001b[0m \u001b[1m384s\u001b[0m 2s/step - accuracy: 0.6299 - loss: 0.7871 - val_accuracy: 0.4934 - val_loss: 1.1321 - learning_rate: 2.5000e-04\n"
          ]
        }
      ],
      "source": [
        "history = secnn_model.fit(\n",
        "    train_generator,\n",
        "    epochs=num_epochs,\n",
        "    validation_data=val_generator,\n",
        "    callbacks=[early_stopping, reduce_lr]\n",
        ")\n",
        "\n"
      ]
    },
    {
      "cell_type": "code",
      "execution_count": 16,
      "id": "31dd8545-3f19-49e1-9827-6bd24bbf4089",
      "metadata": {
        "colab": {
          "base_uri": "https://localhost:8080/",
          "height": 379
        },
        "id": "31dd8545-3f19-49e1-9827-6bd24bbf4089",
        "outputId": "9d933541-888a-40e6-d5a0-6a9d97bb7cdf"
      },
      "outputs": [
        {
          "output_type": "stream",
          "name": "stdout",
          "text": [
            "\u001b[1m40/40\u001b[0m \u001b[32m━━━━━━━━━━━━━━━━━━━━\u001b[0m\u001b[37m\u001b[0m \u001b[1m25s\u001b[0m 621ms/step - accuracy: 0.3725 - loss: 1.3468\n",
            "Validation Accuracy: 53.32%\n"
          ]
        },
        {
          "output_type": "display_data",
          "data": {
            "text/plain": [
              "<Figure size 1200x400 with 2 Axes>"
            ],
            "image/png": "[encoded data removed]"
          },
          "metadata": {}
        }
      ],
      "source": [
        "\n",
        "# Evaluate on validation set\n",
        "val_loss, val_accuracy = secnn_model.evaluate(val_generator)\n",
        "print(f\"Validation Accuracy: {val_accuracy * 100:.2f}%\")\n",
        "\n",
        "# Plot training history\n",
        "plt.figure(figsize=(12, 4))\n",
        "plt.subplot(1, 2, 1)\n",
        "plt.plot(history.history[\"loss\"], label=\"Training Loss\")\n",
        "plt.plot(history.history[\"val_loss\"], label=\"Validation Loss\")\n",
        "plt.legend()\n",
        "plt.title(\"Loss\")\n",
        "\n",
        "plt.subplot(1, 2, 2)\n",
        "plt.plot(history.history[\"accuracy\"], label=\"Training Accuracy\")\n",
        "plt.plot(history.history[\"val_accuracy\"], label=\"Validation Accuracy\")\n",
        "plt.legend()\n",
        "plt.title(\"Accuracy\")\n",
        "plt.show()\n"
      ]
    },
    {
      "cell_type": "markdown",
      "id": "7be33ca6-7919-49a9-bcfb-48766850c05e",
      "metadata": {
        "id": "7be33ca6-7919-49a9-bcfb-48766850c05e"
      },
      "source": [
        "# Step 9: Feature Extraction with SECNN"
      ]
    },
    {
      "cell_type": "code",
      "execution_count": 17,
      "id": "3ce77020-28d9-410f-8d2f-a02337df270b",
      "metadata": {
        "colab": {
          "base_uri": "https://localhost:8080/"
        },
        "id": "3ce77020-28d9-410f-8d2f-a02337df270b",
        "outputId": "ff98e4a8-0f23-4204-e920-ea51d7b71d04"
      },
      "outputs": [
        {
          "output_type": "stream",
          "name": "stdout",
          "text": [
            "\u001b[1m161/161\u001b[0m \u001b[32m━━━━━━━━━━━━━━━━━━━━\u001b[0m\u001b[37m\u001b[0m \u001b[1m105s\u001b[0m 647ms/step\n",
            "\u001b[1m40/40\u001b[0m \u001b[32m━━━━━━━━━━━━━━━━━━━━\u001b[0m\u001b[37m\u001b[0m \u001b[1m24s\u001b[0m 595ms/step\n"
          ]
        }
      ],
      "source": [
        "# Feature extractor model to extract features before the final classification layer\n",
        "feature_extractor = models.Model(inputs=secnn_model.input, outputs=secnn_model.layers[-2].output)\n",
        "\n",
        "# Extract features from training and testing data\n",
        "X_train_features = feature_extractor.predict(train_generator)\n",
        "X_test_features = feature_extractor.predict(val_generator)\n",
        "\n"
      ]
    },
    {
      "cell_type": "code",
      "execution_count": null,
      "id": "0d38cb41-fa10-4969-843d-781ca33a5e6e",
      "metadata": {
        "id": "0d38cb41-fa10-4969-843d-781ca33a5e6e"
      },
      "outputs": [],
      "source": []
    },
    {
      "cell_type": "code",
      "execution_count": null,
      "id": "6c35681c-9ec5-4b66-8fbb-3b9704417785",
      "metadata": {
        "id": "6c35681c-9ec5-4b66-8fbb-3b9704417785"
      },
      "outputs": [],
      "source": []
    },
    {
      "cell_type": "markdown",
      "id": "250e0566-dd20-4e93-98bf-34fb33a0c681",
      "metadata": {
        "id": "250e0566-dd20-4e93-98bf-34fb33a0c681"
      },
      "source": [
        "# Step 12: Evaluate the SECNN Model"
      ]
    },
    {
      "cell_type": "code",
      "execution_count": 18,
      "id": "93b43ae8-8f4b-4e73-9afc-cc7b0f5e5469",
      "metadata": {
        "scrolled": true,
        "colab": {
          "base_uri": "https://localhost:8080/",
          "height": 80
        },
        "id": "93b43ae8-8f4b-4e73-9afc-cc7b0f5e5469",
        "outputId": "87522f2b-8da0-4504-8102-96abb2234f29"
      },
      "outputs": [
        {
          "output_type": "execute_result",
          "data": {
            "text/plain": [
              "RandomForestClassifier()"
            ],
            "text/html": [
              "<style>#sk-container-id-1 {\n",
              "  /* Definition of color scheme common for light and dark mode */\n",
              "  --sklearn-color-text: #000;\n",
              "  --sklearn-color-text-muted: #666;\n",
              "  --sklearn-color-line: gray;\n",
              "  /* Definition of color scheme for unfitted estimators */\n",
              "  --sklearn-color-unfitted-level-0: #fff5e6;\n",
              "  --sklearn-color-unfitted-level-1: #f6e4d2;\n",
              "  --sklearn-color-unfitted-level-2: #ffe0b3;\n",
              "  --sklearn-color-unfitted-level-3: chocolate;\n",
              "  /* Definition of color scheme for fitted estimators */\n",
              "  --sklearn-color-fitted-level-0: #f0f8ff;\n",
              "  --sklearn-color-fitted-level-1: #d4ebff;\n",
              "  --sklearn-color-fitted-level-2: #b3dbfd;\n",
              "  --sklearn-color-fitted-level-3: cornflowerblue;\n",
              "\n",
              "  /* Specific color for light theme */\n",
              "  --sklearn-color-text-on-default-background: var(--sg-text-color, var(--theme-code-foreground, var(--jp-content-font-color1, black)));\n",
              "  --sklearn-color-background: var(--sg-background-color, var(--theme-background, var(--jp-layout-color0, white)));\n",
              "  --sklearn-color-border-box: var(--sg-text-color, var(--theme-code-foreground, var(--jp-content-font-color1, black)));\n",
              "  --sklearn-color-icon: #696969;\n",
              "\n",
              "  @media (prefers-color-scheme: dark) {\n",
              "    /* Redefinition of color scheme for dark theme */\n",
              "    --sklearn-color-text-on-default-background: var(--sg-text-color, var(--theme-code-foreground, var(--jp-content-font-color1, white)));\n",
              "    --sklearn-color-background: var(--sg-background-color, var(--theme-background, var(--jp-layout-color0, #111)));\n",
              "    --sklearn-color-border-box: var(--sg-text-color, var(--theme-code-foreground, var(--jp-content-font-color1, white)));\n",
              "    --sklearn-color-icon: #878787;\n",
              "  }\n",
              "}\n",
              "\n",
              "#sk-container-id-1 {\n",
              "  color: var(--sklearn-color-text);\n",
              "}\n",
              "\n",
              "#sk-container-id-1 pre {\n",
              "  padding: 0;\n",
              "}\n",
              "\n",
              "#sk-container-id-1 input.sk-hidden--visually {\n",
              "  border: 0;\n",
              "  clip: rect(1px 1px 1px 1px);\n",
              "  clip: rect(1px, 1px, 1px, 1px);\n",
              "  height: 1px;\n",
              "  margin: -1px;\n",
              "  overflow: hidden;\n",
              "  padding: 0;\n",
              "  position: absolute;\n",
              "  width: 1px;\n",
              "}\n",
              "\n",
              "#sk-container-id-1 div.sk-dashed-wrapped {\n",
              "  border: 1px dashed var(--sklearn-color-line);\n",
              "  margin: 0 0.4em 0.5em 0.4em;\n",
              "  box-sizing: border-box;\n",
              "  padding-bottom: 0.4em;\n",
              "  background-color: var(--sklearn-color-background);\n",
              "}\n",
              "\n",
              "#sk-container-id-1 div.sk-container {\n",
              "  /* jupyter's `normalize.less` sets `[hidden] { display: none; }`\n",
              "     but bootstrap.min.css set `[hidden] { display: none !important; }`\n",
              "     so we also need the `!important` here to be able to override the\n",
              "     default hidden behavior on the sphinx rendered scikit-learn.org.\n",
              "     See: https://github.com/scikit-learn/scikit-learn/issues/21755 */\n",
              "  display: inline-block !important;\n",
              "  position: relative;\n",
              "}\n",
              "\n",
              "#sk-container-id-1 div.sk-text-repr-fallback {\n",
              "  display: none;\n",
              "}\n",
              "\n",
              "div.sk-parallel-item,\n",
              "div.sk-serial,\n",
              "div.sk-item {\n",
              "  /* draw centered vertical line to link estimators */\n",
              "  background-image: linear-gradient(var(--sklearn-color-text-on-default-background), var(--sklearn-color-text-on-default-background));\n",
              "  background-size: 2px 100%;\n",
              "  background-repeat: no-repeat;\n",
              "  background-position: center center;\n",
              "}\n",
              "\n",
              "/* Parallel-specific style estimator block */\n",
              "\n",
              "#sk-container-id-1 div.sk-parallel-item::after {\n",
              "  content: \"\";\n",
              "  width: 100%;\n",
              "  border-bottom: 2px solid var(--sklearn-color-text-on-default-background);\n",
              "  flex-grow: 1;\n",
              "}\n",
              "\n",
              "#sk-container-id-1 div.sk-parallel {\n",
              "  display: flex;\n",
              "  align-items: stretch;\n",
              "  justify-content: center;\n",
              "  background-color: var(--sklearn-color-background);\n",
              "  position: relative;\n",
              "}\n",
              "\n",
              "#sk-container-id-1 div.sk-parallel-item {\n",
              "  display: flex;\n",
              "  flex-direction: column;\n",
              "}\n",
              "\n",
              "#sk-container-id-1 div.sk-parallel-item:first-child::after {\n",
              "  align-self: flex-end;\n",
              "  width: 50%;\n",
              "}\n",
              "\n",
              "#sk-container-id-1 div.sk-parallel-item:last-child::after {\n",
              "  align-self: flex-start;\n",
              "  width: 50%;\n",
              "}\n",
              "\n",
              "#sk-container-id-1 div.sk-parallel-item:only-child::after {\n",
              "  width: 0;\n",
              "}\n",
              "\n",
              "/* Serial-specific style estimator block */\n",
              "\n",
              "#sk-container-id-1 div.sk-serial {\n",
              "  display: flex;\n",
              "  flex-direction: column;\n",
              "  align-items: center;\n",
              "  background-color: var(--sklearn-color-background);\n",
              "  padding-right: 1em;\n",
              "  padding-left: 1em;\n",
              "}\n",
              "\n",
              "\n",
              "/* Toggleable style: style used for estimator/Pipeline/ColumnTransformer box that is\n",
              "clickable and can be expanded/collapsed.\n",
              "- Pipeline and ColumnTransformer use this feature and define the default style\n",
              "- Estimators will overwrite some part of the style using the `sk-estimator` class\n",
              "*/\n",
              "\n",
              "/* Pipeline and ColumnTransformer style (default) */\n",
              "\n",
              "#sk-container-id-1 div.sk-toggleable {\n",
              "  /* Default theme specific background. It is overwritten whether we have a\n",
              "  specific estimator or a Pipeline/ColumnTransformer */\n",
              "  background-color: var(--sklearn-color-background);\n",
              "}\n",
              "\n",
              "/* Toggleable label */\n",
              "#sk-container-id-1 label.sk-toggleable__label {\n",
              "  cursor: pointer;\n",
              "  display: flex;\n",
              "  width: 100%;\n",
              "  margin-bottom: 0;\n",
              "  padding: 0.5em;\n",
              "  box-sizing: border-box;\n",
              "  text-align: center;\n",
              "  align-items: start;\n",
              "  justify-content: space-between;\n",
              "  gap: 0.5em;\n",
              "}\n",
              "\n",
              "#sk-container-id-1 label.sk-toggleable__label .caption {\n",
              "  font-size: 0.6rem;\n",
              "  font-weight: lighter;\n",
              "  color: var(--sklearn-color-text-muted);\n",
              "}\n",
              "\n",
              "#sk-container-id-1 label.sk-toggleable__label-arrow:before {\n",
              "  /* Arrow on the left of the label */\n",
              "  content: \"▸\";\n",
              "  float: left;\n",
              "  margin-right: 0.25em;\n",
              "  color: var(--sklearn-color-icon);\n",
              "}\n",
              "\n",
              "#sk-container-id-1 label.sk-toggleable__label-arrow:hover:before {\n",
              "  color: var(--sklearn-color-text);\n",
              "}\n",
              "\n",
              "/* Toggleable content - dropdown */\n",
              "\n",
              "#sk-container-id-1 div.sk-toggleable__content {\n",
              "  max-height: 0;\n",
              "  max-width: 0;\n",
              "  overflow: hidden;\n",
              "  text-align: left;\n",
              "  /* unfitted */\n",
              "  background-color: var(--sklearn-color-unfitted-level-0);\n",
              "}\n",
              "\n",
              "#sk-container-id-1 div.sk-toggleable__content.fitted {\n",
              "  /* fitted */\n",
              "  background-color: var(--sklearn-color-fitted-level-0);\n",
              "}\n",
              "\n",
              "#sk-container-id-1 div.sk-toggleable__content pre {\n",
              "  margin: 0.2em;\n",
              "  border-radius: 0.25em;\n",
              "  color: var(--sklearn-color-text);\n",
              "  /* unfitted */\n",
              "  background-color: var(--sklearn-color-unfitted-level-0);\n",
              "}\n",
              "\n",
              "#sk-container-id-1 div.sk-toggleable__content.fitted pre {\n",
              "  /* unfitted */\n",
              "  background-color: var(--sklearn-color-fitted-level-0);\n",
              "}\n",
              "\n",
              "#sk-container-id-1 input.sk-toggleable__control:checked~div.sk-toggleable__content {\n",
              "  /* Expand drop-down */\n",
              "  max-height: 200px;\n",
              "  max-width: 100%;\n",
              "  overflow: auto;\n",
              "}\n",
              "\n",
              "#sk-container-id-1 input.sk-toggleable__control:checked~label.sk-toggleable__label-arrow:before {\n",
              "  content: \"▾\";\n",
              "}\n",
              "\n",
              "/* Pipeline/ColumnTransformer-specific style */\n",
              "\n",
              "#sk-container-id-1 div.sk-label input.sk-toggleable__control:checked~label.sk-toggleable__label {\n",
              "  color: var(--sklearn-color-text);\n",
              "  background-color: var(--sklearn-color-unfitted-level-2);\n",
              "}\n",
              "\n",
              "#sk-container-id-1 div.sk-label.fitted input.sk-toggleable__control:checked~label.sk-toggleable__label {\n",
              "  background-color: var(--sklearn-color-fitted-level-2);\n",
              "}\n",
              "\n",
              "/* Estimator-specific style */\n",
              "\n",
              "/* Colorize estimator box */\n",
              "#sk-container-id-1 div.sk-estimator input.sk-toggleable__control:checked~label.sk-toggleable__label {\n",
              "  /* unfitted */\n",
              "  background-color: var(--sklearn-color-unfitted-level-2);\n",
              "}\n",
              "\n",
              "#sk-container-id-1 div.sk-estimator.fitted input.sk-toggleable__control:checked~label.sk-toggleable__label {\n",
              "  /* fitted */\n",
              "  background-color: var(--sklearn-color-fitted-level-2);\n",
              "}\n",
              "\n",
              "#sk-container-id-1 div.sk-label label.sk-toggleable__label,\n",
              "#sk-container-id-1 div.sk-label label {\n",
              "  /* The background is the default theme color */\n",
              "  color: var(--sklearn-color-text-on-default-background);\n",
              "}\n",
              "\n",
              "/* On hover, darken the color of the background */\n",
              "#sk-container-id-1 div.sk-label:hover label.sk-toggleable__label {\n",
              "  color: var(--sklearn-color-text);\n",
              "  background-color: var(--sklearn-color-unfitted-level-2);\n",
              "}\n",
              "\n",
              "/* Label box, darken color on hover, fitted */\n",
              "#sk-container-id-1 div.sk-label.fitted:hover label.sk-toggleable__label.fitted {\n",
              "  color: var(--sklearn-color-text);\n",
              "  background-color: var(--sklearn-color-fitted-level-2);\n",
              "}\n",
              "\n",
              "/* Estimator label */\n",
              "\n",
              "#sk-container-id-1 div.sk-label label {\n",
              "  font-family: monospace;\n",
              "  font-weight: bold;\n",
              "  display: inline-block;\n",
              "  line-height: 1.2em;\n",
              "}\n",
              "\n",
              "#sk-container-id-1 div.sk-label-container {\n",
              "  text-align: center;\n",
              "}\n",
              "\n",
              "/* Estimator-specific */\n",
              "#sk-container-id-1 div.sk-estimator {\n",
              "  font-family: monospace;\n",
              "  border: 1px dotted var(--sklearn-color-border-box);\n",
              "  border-radius: 0.25em;\n",
              "  box-sizing: border-box;\n",
              "  margin-bottom: 0.5em;\n",
              "  /* unfitted */\n",
              "  background-color: var(--sklearn-color-unfitted-level-0);\n",
              "}\n",
              "\n",
              "#sk-container-id-1 div.sk-estimator.fitted {\n",
              "  /* fitted */\n",
              "  background-color: var(--sklearn-color-fitted-level-0);\n",
              "}\n",
              "\n",
              "/* on hover */\n",
              "#sk-container-id-1 div.sk-estimator:hover {\n",
              "  /* unfitted */\n",
              "  background-color: var(--sklearn-color-unfitted-level-2);\n",
              "}\n",
              "\n",
              "#sk-container-id-1 div.sk-estimator.fitted:hover {\n",
              "  /* fitted */\n",
              "  background-color: var(--sklearn-color-fitted-level-2);\n",
              "}\n",
              "\n",
              "/* Specification for estimator info (e.g. \"i\" and \"?\") */\n",
              "\n",
              "/* Common style for \"i\" and \"?\" */\n",
              "\n",
              ".sk-estimator-doc-link,\n",
              "a:link.sk-estimator-doc-link,\n",
              "a:visited.sk-estimator-doc-link {\n",
              "  float: right;\n",
              "  font-size: smaller;\n",
              "  line-height: 1em;\n",
              "  font-family: monospace;\n",
              "  background-color: var(--sklearn-color-background);\n",
              "  border-radius: 1em;\n",
              "  height: 1em;\n",
              "  width: 1em;\n",
              "  text-decoration: none !important;\n",
              "  margin-left: 0.5em;\n",
              "  text-align: center;\n",
              "  /* unfitted */\n",
              "  border: var(--sklearn-color-unfitted-level-1) 1pt solid;\n",
              "  color: var(--sklearn-color-unfitted-level-1);\n",
              "}\n",
              "\n",
              ".sk-estimator-doc-link.fitted,\n",
              "a:link.sk-estimator-doc-link.fitted,\n",
              "a:visited.sk-estimator-doc-link.fitted {\n",
              "  /* fitted */\n",
              "  border: var(--sklearn-color-fitted-level-1) 1pt solid;\n",
              "  color: var(--sklearn-color-fitted-level-1);\n",
              "}\n",
              "\n",
              "/* On hover */\n",
              "div.sk-estimator:hover .sk-estimator-doc-link:hover,\n",
              ".sk-estimator-doc-link:hover,\n",
              "div.sk-label-container:hover .sk-estimator-doc-link:hover,\n",
              ".sk-estimator-doc-link:hover {\n",
              "  /* unfitted */\n",
              "  background-color: var(--sklearn-color-unfitted-level-3);\n",
              "  color: var(--sklearn-color-background);\n",
              "  text-decoration: none;\n",
              "}\n",
              "\n",
              "div.sk-estimator.fitted:hover .sk-estimator-doc-link.fitted:hover,\n",
              ".sk-estimator-doc-link.fitted:hover,\n",
              "div.sk-label-container:hover .sk-estimator-doc-link.fitted:hover,\n",
              ".sk-estimator-doc-link.fitted:hover {\n",
              "  /* fitted */\n",
              "  background-color: var(--sklearn-color-fitted-level-3);\n",
              "  color: var(--sklearn-color-background);\n",
              "  text-decoration: none;\n",
              "}\n",
              "\n",
              "/* Span, style for the box shown on hovering the info icon */\n",
              ".sk-estimator-doc-link span {\n",
              "  display: none;\n",
              "  z-index: 9999;\n",
              "  position: relative;\n",
              "  font-weight: normal;\n",
              "  right: .2ex;\n",
              "  padding: .5ex;\n",
              "  margin: .5ex;\n",
              "  width: min-content;\n",
              "  min-width: 20ex;\n",
              "  max-width: 50ex;\n",
              "  color: var(--sklearn-color-text);\n",
              "  box-shadow: 2pt 2pt 4pt #999;\n",
              "  /* unfitted */\n",
              "  background: var(--sklearn-color-unfitted-level-0);\n",
              "  border: .5pt solid var(--sklearn-color-unfitted-level-3);\n",
              "}\n",
              "\n",
              ".sk-estimator-doc-link.fitted span {\n",
              "  /* fitted */\n",
              "  background: var(--sklearn-color-fitted-level-0);\n",
              "  border: var(--sklearn-color-fitted-level-3);\n",
              "}\n",
              "\n",
              ".sk-estimator-doc-link:hover span {\n",
              "  display: block;\n",
              "}\n",
              "\n",
              "/* \"?\"-specific style due to the `<a>` HTML tag */\n",
              "\n",
              "#sk-container-id-1 a.estimator_doc_link {\n",
              "  float: right;\n",
              "  font-size: 1rem;\n",
              "  line-height: 1em;\n",
              "  font-family: monospace;\n",
              "  background-color: var(--sklearn-color-background);\n",
              "  border-radius: 1rem;\n",
              "  height: 1rem;\n",
              "  width: 1rem;\n",
              "  text-decoration: none;\n",
              "  /* unfitted */\n",
              "  color: var(--sklearn-color-unfitted-level-1);\n",
              "  border: var(--sklearn-color-unfitted-level-1) 1pt solid;\n",
              "}\n",
              "\n",
              "#sk-container-id-1 a.estimator_doc_link.fitted {\n",
              "  /* fitted */\n",
              "  border: var(--sklearn-color-fitted-level-1) 1pt solid;\n",
              "  color: var(--sklearn-color-fitted-level-1);\n",
              "}\n",
              "\n",
              "/* On hover */\n",
              "#sk-container-id-1 a.estimator_doc_link:hover {\n",
              "  /* unfitted */\n",
              "  background-color: var(--sklearn-color-unfitted-level-3);\n",
              "  color: var(--sklearn-color-background);\n",
              "  text-decoration: none;\n",
              "}\n",
              "\n",
              "#sk-container-id-1 a.estimator_doc_link.fitted:hover {\n",
              "  /* fitted */\n",
              "  background-color: var(--sklearn-color-fitted-level-3);\n",
              "}\n",
              "</style><div id=\"sk-container-id-1\" class=\"sk-top-container\"><div class=\"sk-text-repr-fallback\"><pre>RandomForestClassifier()</pre><b>In a Jupyter environment, please rerun this cell to show the HTML representation or trust the notebook. <br />On GitHub, the HTML representation is unable to render, please try loading this page with nbviewer.org.</b></div><div class=\"sk-container\" hidden><div class=\"sk-item\"><div class=\"sk-estimator fitted sk-toggleable\"><input class=\"sk-toggleable__control sk-hidden--visually\" id=\"sk-estimator-id-1\" type=\"checkbox\" checked><label for=\"sk-estimator-id-1\" class=\"sk-toggleable__label fitted sk-toggleable__label-arrow\"><div><div>RandomForestClassifier</div></div><div><a class=\"sk-estimator-doc-link fitted\" rel=\"noreferrer\" target=\"_blank\" href=\"https://scikit-learn.org/1.6/modules/generated/sklearn.ensemble.RandomForestClassifier.html\">?<span>Documentation for RandomForestClassifier</span></a><span class=\"sk-estimator-doc-link fitted\">i<span>Fitted</span></span></div></label><div class=\"sk-toggleable__content fitted\"><pre>RandomForestClassifier()</pre></div> </div></div></div></div>"
            ]
          },
          "metadata": {},
          "execution_count": 18
        }
      ],
      "source": [
        "# Step 4: Train a classifier on the extracted features (e.g., RandomForest)\n",
        "rf_model = RandomForestClassifier()\n",
        "rf_model.fit(X_train_features, train_generator.classes)  # Train on the extracted training features\n"
      ]
    },
    {
      "cell_type": "code",
      "execution_count": 20,
      "id": "f9194417-c66a-46ab-aecb-9124454707ff",
      "metadata": {
        "colab": {
          "base_uri": "https://localhost:8080/",
          "height": 1000
        },
        "id": "f9194417-c66a-46ab-aecb-9124454707ff",
        "outputId": "732a8dc3-9c82-4ed4-a67e-69a7e7bb10fc"
      },
      "outputs": [
        {
          "output_type": "stream",
          "name": "stdout",
          "text": [
            "\u001b[1m40/40\u001b[0m \u001b[32m━━━━━━━━━━━━━━━━━━━━\u001b[0m\u001b[37m\u001b[0m \u001b[1m29s\u001b[0m 699ms/step\n",
            "Test Accuracy of SECNN Model: 0.5418\n",
            "Classification Report:\n",
            "                     precision    recall  f1-score   support\n",
            "\n",
            "     Mild_Demented       0.17      0.01      0.01       179\n",
            " Moderate_Demented       0.00      0.00      0.00        12\n",
            "      Non_Demented       0.68      0.65      0.67       640\n",
            "Very_Mild_Demented       0.41      0.61      0.49       448\n",
            "\n",
            "          accuracy                           0.54      1279\n",
            "         macro avg       0.32      0.32      0.29      1279\n",
            "      weighted avg       0.51      0.54      0.51      1279\n",
            "\n"
          ]
        },
        {
          "output_type": "stream",
          "name": "stderr",
          "text": [
            "/usr/local/lib/python3.11/dist-packages/sklearn/metrics/_classification.py:1565: UndefinedMetricWarning: Precision is ill-defined and being set to 0.0 in labels with no predicted samples. Use `zero_division` parameter to control this behavior.\n",
            "  _warn_prf(average, modifier, f\"{metric.capitalize()} is\", len(result))\n",
            "/usr/local/lib/python3.11/dist-packages/sklearn/metrics/_classification.py:1565: UndefinedMetricWarning: Precision is ill-defined and being set to 0.0 in labels with no predicted samples. Use `zero_division` parameter to control this behavior.\n",
            "  _warn_prf(average, modifier, f\"{metric.capitalize()} is\", len(result))\n",
            "/usr/local/lib/python3.11/dist-packages/sklearn/metrics/_classification.py:1565: UndefinedMetricWarning: Precision is ill-defined and being set to 0.0 in labels with no predicted samples. Use `zero_division` parameter to control this behavior.\n",
            "  _warn_prf(average, modifier, f\"{metric.capitalize()} is\", len(result))\n"
          ]
        },
        {
          "output_type": "display_data",
          "data": {
            "text/plain": [
              "<Figure size 1000x800 with 2 Axes>"
            ],
            "image/png": "[encoded data removed]"
          },
          "metadata": {}
        }
      ],
      "source": [
        "# Predict class probabilities\n",
        "y_pred_prob = secnn_model.predict(val_generator)\n",
        "\n",
        "# Convert probabilities to class indices (predicted labels)\n",
        "y_pred = np.argmax(y_pred_prob, axis=1)\n",
        "\n",
        "# True labels from the test generator\n",
        "y_true = val_generator.classes\n",
        "\n",
        "# Calculate accuracy\n",
        "accuracy = accuracy_score(y_true, y_pred)\n",
        "print(f\"Test Accuracy of SECNN Model: {accuracy:.4f}\")\n",
        "\n",
        "# Classification report\n",
        "class_labels = list(val_generator.class_indices.keys())\n",
        "print(\"Classification Report:\\n\", classification_report(y_true, y_pred, target_names=class_labels))\n",
        "\n",
        "# Confusion Matrix\n",
        "conf_matrix = confusion_matrix(y_true, y_pred)\n",
        "\n",
        "# Plot the confusion matrix\n",
        "plt.figure(figsize=(10, 8))\n",
        "sns.heatmap(conf_matrix, annot=True, fmt='d', cmap='Blues',\n",
        "            xticklabels=class_labels, yticklabels=class_labels)\n",
        "plt.xlabel(\"Predicted\")\n",
        "plt.ylabel(\"Actual\")\n",
        "plt.title(\"Confusion Matrix of SECNN Model\")\n",
        "plt.show()\n"
      ]
    },
    {
      "cell_type": "code",
      "execution_count": 22,
      "id": "6111c530-853a-401c-a635-c71601617a5b",
      "metadata": {
        "colab": {
          "base_uri": "https://localhost:8080/"
        },
        "id": "6111c530-853a-401c-a635-c71601617a5b",
        "outputId": "a3b2d823-d4cb-4b4f-9199-49ee36f803a6"
      },
      "outputs": [
        {
          "output_type": "stream",
          "name": "stdout",
          "text": [
            "\u001b[1m161/161\u001b[0m \u001b[32m━━━━━━━━━━━━━━━━━━━━\u001b[0m\u001b[37m\u001b[0m \u001b[1m118s\u001b[0m 730ms/step - accuracy: 0.6009 - loss: 0.8310\n",
            "Training Accuracy: 59.77%\n"
          ]
        }
      ],
      "source": [
        "# Evaluate on validation set\n",
        "val_loss, val_accuracy = secnn_model.evaluate(train_generator)\n",
        "print(f\"Training Accuracy: {val_accuracy * 100:.2f}%\")"
      ]
    },
    {
      "cell_type": "markdown",
      "id": "9c1d775a-8044-447a-99af-86be48ce85cd",
      "metadata": {
        "id": "9c1d775a-8044-447a-99af-86be48ce85cd"
      },
      "source": [
        "# Save and Predict"
      ]
    },
    {
      "cell_type": "code",
      "execution_count": 24,
      "id": "2eaeebb4-b662-4fd0-9b32-fb19ef305eee",
      "metadata": {
        "colab": {
          "base_uri": "https://localhost:8080/"
        },
        "id": "2eaeebb4-b662-4fd0-9b32-fb19ef305eee",
        "outputId": "7b7b5249-10b4-42fb-fba1-9eb6e46e589c"
      },
      "outputs": [
        {
          "output_type": "stream",
          "name": "stdout",
          "text": [
            "Model saved to 'secnn_model.keras'\n"
          ]
        }
      ],
      "source": [
        "# Save the trained model\n",
        "secnn_model.save(\"/content/drive/MyDrive/Alzheimer-Disease-Prediction/Dataset/secnn_model.keras\")  # or secnn_model.h5\n",
        "print(\"Model saved to 'secnn_model.keras'\") # or secnn_model.h5"
      ]
    },
    {
      "cell_type": "code",
      "execution_count": 33,
      "id": "f7235061-a1ff-4ebb-b4f4-80bcebf77382",
      "metadata": {
        "colab": {
          "base_uri": "https://localhost:8080/",
          "height": 88
        },
        "id": "f7235061-a1ff-4ebb-b4f4-80bcebf77382",
        "outputId": "3dc9ca31-5eb7-4c97-cc2a-03592614a725"
      },
      "outputs": [
        {
          "output_type": "stream",
          "name": "stdout",
          "text": [
            "Model loaded successfully!\n",
            "\u001b[1m1/1\u001b[0m \u001b[32m━━━━━━━━━━━━━━━━━━━━\u001b[0m\u001b[37m\u001b[0m \u001b[1m0s\u001b[0m 300ms/step\n",
            "Predicted Class: ModerateDemented\n"
          ]
        },
        {
          "output_type": "execute_result",
          "data": {
            "text/plain": [
              "'ModerateDemented'"
            ],
            "application/vnd.google.colaboratory.intrinsic+json": {
              "type": "string"
            }
          },
          "metadata": {},
          "execution_count": 33
        }
      ],
      "source": [
        "from tensorflow.keras.preprocessing.image import img_to_array\n",
        "model_path =\"/content/drive/MyDrive/Alzheimer-Disease-Prediction/Dataset/secnn_model.keras\"\n",
        "loaded_model = load_model(model_path)\n",
        "print(\"Model loaded successfully!\")\n",
        "# Predict on a single image\n",
        "class_labels = ['NonDemented', 'VeryMildDemented', 'MildDemented', 'ModerateDemented']\n",
        "\n",
        "def predict_single_image(img_path, model):\n",
        "    # Load and preprocess the image\n",
        "    img = load_img(img_path, target_size=(IMG_HEIGHT, IMG_WIDTH))\n",
        "    img_array = img_to_array(img) / 255.0\n",
        "    img_array = np.expand_dims(img_array, axis=0)\n",
        "\n",
        "    # Predict class probabilities\n",
        "    predictions = model.predict(img_array)\n",
        "    predicted_class_index = np.argmax(predictions)\n",
        "    predicted_class = class_labels[predicted_class_index]\n",
        "\n",
        "    print(f\"Predicted Class: {predicted_class}\")\n",
        "    return predicted_class\n",
        "\n",
        "# Example prediction\n",
        "img_path = '/content/drive/MyDrive/Alzheimer-Disease-Prediction/Dataset/Non_Demented/non_13.jpg'\n",
        "predict_single_image(img_path, secnn_model)\n"
      ]
    },
    {
      "cell_type": "markdown",
      "id": "c6f72b55-6b11-4c81-bd33-e597aa2848ec",
      "metadata": {
        "id": "c6f72b55-6b11-4c81-bd33-e597aa2848ec"
      },
      "source": [
        "# Step : Prediction Function with Saliency Map Display"
      ]
    },
    {
      "cell_type": "code",
      "execution_count": 35,
      "id": "31f7bfa3-3037-4db1-b553-b655b7c89fce",
      "metadata": {
        "scrolled": true,
        "colab": {
          "base_uri": "https://localhost:8080/",
          "height": 530
        },
        "id": "31f7bfa3-3037-4db1-b553-b655b7c89fce",
        "outputId": "ad49929c-8e5e-4dda-8d92-fd38c9aaa6a2"
      },
      "outputs": [
        {
          "output_type": "stream",
          "name": "stdout",
          "text": [
            "Model loaded successfully!\n",
            "\u001b[1m1/1\u001b[0m \u001b[32m━━━━━━━━━━━━━━━━━━━━\u001b[0m\u001b[37m\u001b[0m \u001b[1m0s\u001b[0m 439ms/step\n",
            "Predicted Class: ModerateDemented\n",
            "\u001b[1m1/1\u001b[0m \u001b[32m━━━━━━━━━━━━━━━━━━━━\u001b[0m\u001b[37m\u001b[0m \u001b[1m0s\u001b[0m 75ms/step\n"
          ]
        },
        {
          "output_type": "display_data",
          "data": {
            "text/plain": [
              "<Figure size 1200x600 with 2 Axes>"
            ],
            "image/png": "[encoded data removed]"
          },
          "metadata": {}
        }
      ],
      "source": [
        "import tensorflow as tf\n",
        "from tensorflow.keras.models import load_model\n",
        "from tensorflow.keras.preprocessing import image\n",
        "import matplotlib.pyplot as plt\n",
        "import numpy as np\n",
        "\n",
        "# Load the SECNN model\n",
        "model_path = \"/content/drive/MyDrive/Alzheimer-Disease-Prediction/Dataset/secnn_model.keras\"\n",
        "secnn_model = load_model(model_path)\n",
        "print(\"Model loaded successfully!\")\n",
        "\n",
        "# Class labels (ensure these match your training dataset)\n",
        "class_labels = [\"NonDemented\", \"VeryMildDemented\", \"MildDemented\", \"ModerateDemented\"]\n",
        "def predict_single_image(img_path, model):\n",
        "    # Load and preprocess the image\n",
        "    img = load_img(img_path, target_size=(IMG_HEIGHT, IMG_WIDTH))\n",
        "    img_array = img_to_array(img) / 255.0\n",
        "    img_array = np.expand_dims(img_array, axis=0)\n",
        "\n",
        "    # Predict class probabilities\n",
        "    predictions = model.predict(img_array)\n",
        "    predicted_class_index = np.argmax(predictions)\n",
        "    predicted_class = class_labels[predicted_class_index]\n",
        "\n",
        "    print(f\"Predicted Class: {predicted_class}\")\n",
        "    return predicted_class\n",
        "\n",
        "# Example prediction\n",
        "# img_path = r\"C:\\Users\\Krishna\\Downloads\\mlp\\AugmentedAlzheimerDataset\\ModerateDemented\\fee2b1ba-b9a7-44f0-80be-230c04796d4b.jpg\"\n",
        "# predict_single_image(img_path, secnn_model)\n",
        "\n",
        "# Function to generate saliency map\n",
        "def generate_saliency_map(model, img_array, class_index):\n",
        "    img_tensor = tf.convert_to_tensor(img_array, dtype=tf.float32)\n",
        "    with tf.GradientTape() as tape:\n",
        "        tape.watch(img_tensor)\n",
        "        predictions = model(img_tensor)\n",
        "        predicted_class_score = predictions[:, class_index]\n",
        "    grads = tape.gradient(predicted_class_score, img_tensor)\n",
        "    saliency_map = tf.reduce_max(tf.abs(grads), axis=-1).numpy()[0]\n",
        "    return saliency_map\n",
        "\n",
        "# Visualization function (no prediction output)\n",
        "def visualize_image_with_saliency(img_path, model):\n",
        "    # Load and preprocess the image\n",
        "    img = image.load_img(img_path, target_size=(128, 128))\n",
        "    img_array = image.img_to_array(img) / 255.0\n",
        "    img_array = np.expand_dims(img_array, axis=0)\n",
        "\n",
        "    # Predict class probabilities (required for saliency map)\n",
        "    predictions = model.predict(img_array)\n",
        "    predicted_class_index = np.argmax(predictions)\n",
        "\n",
        "    # Generate the saliency map for the predicted class\n",
        "    saliency_map = generate_saliency_map(model, img_array, predicted_class_index)\n",
        "\n",
        "    # Display the original image and saliency map\n",
        "    plt.figure(figsize=(12, 6))\n",
        "    plt.subplot(1, 2, 1)\n",
        "    plt.imshow(image.array_to_img(img_array[0]))\n",
        "    plt.title(\"Original Image\")\n",
        "    plt.axis(\"off\")\n",
        "\n",
        "    plt.subplot(1, 2, 2)\n",
        "    plt.imshow(image.array_to_img(img_array[0]))\n",
        "    plt.imshow(saliency_map, cmap='jet', alpha=0.6)\n",
        "    plt.title(\"Saliency Map\")\n",
        "    plt.axis(\"off\")\n",
        "    plt.tight_layout()\n",
        "    plt.show()\n",
        "\n",
        "# Test the function with an example image path\n",
        "'/content/drive/MyDrive/Alzheimer-Disease-Prediction/Dataset/Non_Demented/non_13.jpg'\n",
        "predict_single_image(img_path, secnn_model)\n",
        "visualize_image_with_saliency(img_path, secnn_model)\n"
      ]
    },
    {
      "cell_type": "markdown",
      "id": "d9764fd7-b5bb-4c67-a9df-7e0a0dd72c12",
      "metadata": {
        "id": "d9764fd7-b5bb-4c67-a9df-7e0a0dd72c12"
      },
      "source": [
        "### A saliency map is a visual representation that highlights the most important regions in an input image that influence a model's decision. It helps us understand why a model made a particular prediction by showing which parts of the image had the greatest impact on the model's output.\n",
        "\n"
      ]
    }
  ],
  "metadata": {
    "kernelspec": {
      "display_name": "Python 3 (ipykernel)",
      "language": "python",
      "name": "python3"
    },
    "language_info": {
      "codemirror_mode": {
        "name": "ipython",
        "version": 3
      },
      "file_extension": ".py",
      "mimetype": "text/x-python",
      "name": "python",
      "nbconvert_exporter": "python",
      "pygments_lexer": "ipython3",
      "version": "3.11.5"
    },
    "colab": {
      "provenance": [],
      "include_colab_link": true
    }
  },
  "nbformat": 4,
  "nbformat_minor": 5
}